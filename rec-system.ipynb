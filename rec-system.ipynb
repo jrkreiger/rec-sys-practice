{
 "cells": [
  {
   "cell_type": "markdown",
   "metadata": {
    "toc": true
   },
   "source": [
    "<h1>Table of Contents<span class=\"tocSkip\"></span></h1>\n",
    "<div class=\"toc\"><ul class=\"toc-item\"><li><span><a href=\"#Introduction\" data-toc-modified-id=\"Introduction-1\"><span class=\"toc-item-num\">1&nbsp;&nbsp;</span>Introduction</a></span></li><li><span><a href=\"#Data-prep\" data-toc-modified-id=\"Data-prep-2\"><span class=\"toc-item-num\">2&nbsp;&nbsp;</span>Data prep</a></span></li><li><span><a href=\"#KNN-models\" data-toc-modified-id=\"KNN-models-3\"><span class=\"toc-item-num\">3&nbsp;&nbsp;</span>KNN models</a></span></li><li><span><a href=\"#SVD-models\" data-toc-modified-id=\"SVD-models-4\"><span class=\"toc-item-num\">4&nbsp;&nbsp;</span>SVD models</a></span></li><li><span><a href=\"#NMF-models\" data-toc-modified-id=\"NMF-models-5\"><span class=\"toc-item-num\">5&nbsp;&nbsp;</span>NMF models</a></span></li><li><span><a href=\"#SlopeOne-model\" data-toc-modified-id=\"SlopeOne-model-6\"><span class=\"toc-item-num\">6&nbsp;&nbsp;</span>SlopeOne model</a></span></li><li><span><a href=\"#Co-cluster-model\" data-toc-modified-id=\"Co-cluster-model-7\"><span class=\"toc-item-num\">7&nbsp;&nbsp;</span>Co-cluster model</a></span></li></ul></div>"
   ]
  },
  {
   "cell_type": "markdown",
   "metadata": {},
   "source": [
    "# Introduction"
   ]
  },
  {
   "cell_type": "markdown",
   "metadata": {},
   "source": [
    "This notebook contains code for building a recommendation system based on data about people's preferences for musical artists. The data comes originally from [Last.fm](http://lastfm.com) via [Grouplens.org](https://grouplens.org/datasets/hetrec-2011/). \n",
    "\n",
    "Unlike many datasets used in recommendation systems, this one does not record users' ratings of items on a discrete scale (e.g., a 5-point scale). Instead, this dataset records how many times a user listened to a given artist. This value can range from 1 up to several hundred thousand. RMSE, the measure I use to evaluate model performance here, will thus be in units of \"listens.\" \n",
    "\n",
    "My general approach is first to try a selection of KNN models, and then to compare the more sophisticated SVD++ model, known for its strong performance in the Netflix competition. Inspiration for this project came from [this blog post](https://blog.cambridgespark.com/tutorial-practical-introduction-to-recommender-systems-dbe22848392b)."
   ]
  },
  {
   "cell_type": "markdown",
   "metadata": {},
   "source": [
    "# Data prep"
   ]
  },
  {
   "cell_type": "code",
   "execution_count": 1,
   "metadata": {
    "ExecuteTime": {
     "end_time": "2020-04-27T18:35:52.039076Z",
     "start_time": "2020-04-27T18:35:49.199146Z"
    }
   },
   "outputs": [],
   "source": [
    "# Import packages\n",
    "import pandas as pd\n",
    "import numpy as np\n",
    "import matplotlib.pyplot as plt\n",
    "%matplotlib inline\n",
    "\n",
    "import surprise\n",
    "from surprise.model_selection import train_test_split\n",
    "from surprise.model_selection import GridSearchCV, cross_validate\n",
    "from surprise.prediction_algorithms import knns\n",
    "from surprise.similarities import cosine, msd, pearson\n",
    "from surprise import accuracy"
   ]
  },
  {
   "cell_type": "code",
   "execution_count": 2,
   "metadata": {
    "ExecuteTime": {
     "end_time": "2020-04-27T18:35:52.133337Z",
     "start_time": "2020-04-27T18:35:52.042933Z"
    }
   },
   "outputs": [
    {
     "data": {
      "text/html": [
       "<div>\n",
       "<style scoped>\n",
       "    .dataframe tbody tr th:only-of-type {\n",
       "        vertical-align: middle;\n",
       "    }\n",
       "\n",
       "    .dataframe tbody tr th {\n",
       "        vertical-align: top;\n",
       "    }\n",
       "\n",
       "    .dataframe thead th {\n",
       "        text-align: right;\n",
       "    }\n",
       "</style>\n",
       "<table border=\"1\" class=\"dataframe\">\n",
       "  <thead>\n",
       "    <tr style=\"text-align: right;\">\n",
       "      <th></th>\n",
       "      <th>userID</th>\n",
       "      <th>artistID</th>\n",
       "      <th>weight</th>\n",
       "    </tr>\n",
       "  </thead>\n",
       "  <tbody>\n",
       "    <tr>\n",
       "      <td>0</td>\n",
       "      <td>2</td>\n",
       "      <td>51</td>\n",
       "      <td>13883</td>\n",
       "    </tr>\n",
       "    <tr>\n",
       "      <td>1</td>\n",
       "      <td>2</td>\n",
       "      <td>52</td>\n",
       "      <td>11690</td>\n",
       "    </tr>\n",
       "    <tr>\n",
       "      <td>2</td>\n",
       "      <td>2</td>\n",
       "      <td>53</td>\n",
       "      <td>11351</td>\n",
       "    </tr>\n",
       "    <tr>\n",
       "      <td>3</td>\n",
       "      <td>2</td>\n",
       "      <td>54</td>\n",
       "      <td>10300</td>\n",
       "    </tr>\n",
       "    <tr>\n",
       "      <td>4</td>\n",
       "      <td>2</td>\n",
       "      <td>55</td>\n",
       "      <td>8983</td>\n",
       "    </tr>\n",
       "  </tbody>\n",
       "</table>\n",
       "</div>"
      ],
      "text/plain": [
       "   userID  artistID  weight\n",
       "0       2        51   13883\n",
       "1       2        52   11690\n",
       "2       2        53   11351\n",
       "3       2        54   10300\n",
       "4       2        55    8983"
      ]
     },
     "execution_count": 2,
     "metadata": {},
     "output_type": "execute_result"
    }
   ],
   "source": [
    "# Read in data\n",
    "df = pd.read_table(\"user_artists.dat\", sep='\\t', header=0)\n",
    "df.head()"
   ]
  },
  {
   "cell_type": "code",
   "execution_count": 3,
   "metadata": {
    "ExecuteTime": {
     "end_time": "2020-04-27T18:36:00.510929Z",
     "start_time": "2020-04-27T18:36:00.470660Z"
    },
    "scrolled": true
   },
   "outputs": [
    {
     "data": {
      "text/plain": [
       "count     92834.00000\n",
       "mean        745.24393\n",
       "std        3751.32208\n",
       "min           1.00000\n",
       "25%         107.00000\n",
       "50%         260.00000\n",
       "75%         614.00000\n",
       "max      352698.00000\n",
       "Name: weight, dtype: float64"
      ]
     },
     "execution_count": 3,
     "metadata": {},
     "output_type": "execute_result"
    }
   ],
   "source": [
    "# View distribution of 'weight' values\n",
    "df['weight'].describe()"
   ]
  },
  {
   "cell_type": "code",
   "execution_count": 18,
   "metadata": {
    "ExecuteTime": {
     "end_time": "2020-04-27T18:39:16.345778Z",
     "start_time": "2020-04-27T18:39:16.337624Z"
    }
   },
   "outputs": [
    {
     "data": {
      "text/plain": [
       "2328.0"
      ]
     },
     "execution_count": 18,
     "metadata": {},
     "output_type": "execute_result"
    }
   ],
   "source": [
    "np.percentile(df['weight'], 95)"
   ]
  },
  {
   "cell_type": "code",
   "execution_count": 19,
   "metadata": {
    "ExecuteTime": {
     "end_time": "2020-04-27T18:39:19.077600Z",
     "start_time": "2020-04-27T18:39:19.058303Z"
    },
    "scrolled": true
   },
   "outputs": [
    {
     "data": {
      "text/plain": [
       "count    88193.000000\n",
       "mean       402.631105\n",
       "std        446.964515\n",
       "min          1.000000\n",
       "25%        101.000000\n",
       "50%        240.000000\n",
       "75%        530.000000\n",
       "max       2328.000000\n",
       "Name: weight, dtype: float64"
      ]
     },
     "execution_count": 19,
     "metadata": {},
     "output_type": "execute_result"
    }
   ],
   "source": [
    "df_trim = df[df['weight'] <= np.percentile(df['weight'], 95)]\n",
    "df_trim['weight'].describe()"
   ]
  },
  {
   "cell_type": "code",
   "execution_count": 20,
   "metadata": {
    "ExecuteTime": {
     "end_time": "2020-04-27T18:39:20.485243Z",
     "start_time": "2020-04-27T18:39:20.027053Z"
    }
   },
   "outputs": [
    {
     "data": {
      "image/png": "[encoded data removed]",
      "text/plain": [
       "<Figure size 432x288 with 1 Axes>"
      ]
     },
     "metadata": {
      "needs_background": "light"
     },
     "output_type": "display_data"
    }
   ],
   "source": [
    "plt.hist(df_trim['weight'], bins=100);"
   ]
  },
  {
   "cell_type": "code",
   "execution_count": 21,
   "metadata": {
    "ExecuteTime": {
     "end_time": "2020-04-27T18:39:22.879338Z",
     "start_time": "2020-04-27T18:39:22.851119Z"
    }
   },
   "outputs": [],
   "source": [
    "# Get min and max of 'weight'\n",
    "min_weight = min(df_trim['weight'])\n",
    "max_weight = max(df_trim['weight'])"
   ]
  },
  {
   "cell_type": "code",
   "execution_count": 22,
   "metadata": {
    "ExecuteTime": {
     "end_time": "2020-04-27T18:39:23.177118Z",
     "start_time": "2020-04-27T18:39:23.172611Z"
    }
   },
   "outputs": [],
   "source": [
    "# Initialize Reader object\n",
    "reader = surprise.Reader(rating_scale = (min_weight, max_weight))"
   ]
  },
  {
   "cell_type": "code",
   "execution_count": 23,
   "metadata": {
    "ExecuteTime": {
     "end_time": "2020-04-27T18:39:23.669034Z",
     "start_time": "2020-04-27T18:39:23.531648Z"
    }
   },
   "outputs": [],
   "source": [
    "# Parse the dataset\n",
    "data = surprise.Dataset.load_from_df(df, reader)"
   ]
  },
  {
   "cell_type": "code",
   "execution_count": 24,
   "metadata": {
    "ExecuteTime": {
     "end_time": "2020-04-27T18:39:24.106072Z",
     "start_time": "2020-04-27T18:39:23.899289Z"
    }
   },
   "outputs": [],
   "source": [
    "# Split data into training and test sets\n",
    "trainset, testset = train_test_split(data, test_size=0.2)"
   ]
  },
  {
   "cell_type": "code",
   "execution_count": 25,
   "metadata": {
    "ExecuteTime": {
     "end_time": "2020-04-27T18:39:24.284599Z",
     "start_time": "2020-04-27T18:39:24.276470Z"
    }
   },
   "outputs": [
    {
     "name": "stdout",
     "output_type": "stream",
     "text": [
      "Number of users: 1889\n",
      "Number of artists: 15351\n"
     ]
    }
   ],
   "source": [
    "# View counts of users and items (artists) to see which is lower\n",
    "print('Number of users:', trainset.n_users)\n",
    "print('Number of artists:', trainset.n_items)"
   ]
  },
  {
   "cell_type": "markdown",
   "metadata": {},
   "source": [
    "# KNN models"
   ]
  },
  {
   "cell_type": "code",
   "execution_count": 26,
   "metadata": {
    "ExecuteTime": {
     "end_time": "2020-04-27T18:39:31.247266Z",
     "start_time": "2020-04-27T18:39:29.587938Z"
    }
   },
   "outputs": [
    {
     "name": "stdout",
     "output_type": "stream",
     "text": [
      "Computing the cosine similarity matrix...\n",
      "Done computing similarity matrix.\n"
     ]
    },
    {
     "data": {
      "text/plain": [
       "<surprise.prediction_algorithms.knns.KNNBasic at 0x1094862e8>"
      ]
     },
     "execution_count": 26,
     "metadata": {},
     "output_type": "execute_result"
    }
   ],
   "source": [
    "# Try out a KNNBasic model\n",
    "cos_sim_params = {'name':'cosine', 'user_based':True}\n",
    "\n",
    "basic = knns.KNNBasic(sim_options=cos_sim_params)\n",
    "basic.fit(trainset)"
   ]
  },
  {
   "cell_type": "code",
   "execution_count": 27,
   "metadata": {
    "ExecuteTime": {
     "end_time": "2020-04-27T18:39:33.469109Z",
     "start_time": "2020-04-27T18:39:31.251241Z"
    }
   },
   "outputs": [
    {
     "name": "stdout",
     "output_type": "stream",
     "text": [
      "RMSE: 4236.0426\n",
      "4236.04260094406\n"
     ]
    }
   ],
   "source": [
    "# Evaluate the KNNBasic model\n",
    "basic_pred = basic.test(testset)\n",
    "print(accuracy.rmse(basic_pred))"
   ]
  },
  {
   "cell_type": "code",
   "execution_count": 28,
   "metadata": {
    "ExecuteTime": {
     "end_time": "2020-04-27T18:39:37.617018Z",
     "start_time": "2020-04-27T18:39:33.472621Z"
    },
    "scrolled": true
   },
   "outputs": [
    {
     "name": "stdout",
     "output_type": "stream",
     "text": [
      "Computing the pearson similarity matrix...\n",
      "Done computing similarity matrix.\n",
      "RMSE: 4233.0307\n",
      "4233.030664214467\n"
     ]
    }
   ],
   "source": [
    "# Try same model, this time with Pearson similarity\n",
    "pear_sim_params = {'name':'pearson', 'user_based':True}\n",
    "\n",
    "basic_pear = knns.KNNBasic(sim_options=pear_sim_params)\n",
    "basic_pear.fit(trainset)\n",
    "\n",
    "basic_pear_pred = basic_pear.test(testset)\n",
    "print(accuracy.rmse(basic_pear_pred))"
   ]
  },
  {
   "cell_type": "code",
   "execution_count": 68,
   "metadata": {
    "ExecuteTime": {
     "end_time": "2020-04-25T23:50:48.444086Z",
     "start_time": "2020-04-25T23:50:45.899846Z"
    }
   },
   "outputs": [
    {
     "name": "stdout",
     "output_type": "stream",
     "text": [
      "Computing the msd similarity matrix...\n",
      "Done computing similarity matrix.\n",
      "RMSE: 2923.5293\n",
      "2923.5293363502374\n"
     ]
    }
   ],
   "source": [
    "# Try same model, this time with Mean Squared Difference similarity\n",
    "msd_sim_params = {'name':'msd', 'user_based':True}\n",
    "\n",
    "basic_msd = knns.KNNBasic(sim_options=msd_sim_params)\n",
    "basic_msd.fit(trainset)\n",
    "\n",
    "basic_msd_pred = basic_msd.test(testset)\n",
    "print(accuracy.rmse(basic_msd_pred))"
   ]
  },
  {
   "cell_type": "markdown",
   "metadata": {},
   "source": [
    "Pearson similarity performed better than the other two metrics, so I'll proceed to use Pearson similarity to evaluate the various KNN models."
   ]
  },
  {
   "cell_type": "code",
   "execution_count": 75,
   "metadata": {
    "ExecuteTime": {
     "end_time": "2020-04-25T23:54:42.661112Z",
     "start_time": "2020-04-25T23:54:38.281726Z"
    },
    "scrolled": false
   },
   "outputs": [
    {
     "name": "stdout",
     "output_type": "stream",
     "text": [
      "Computing the pearson similarity matrix...\n",
      "Done computing similarity matrix.\n",
      "RMSE: 2844.2060\n",
      "2844.206028229536\n"
     ]
    }
   ],
   "source": [
    "# Try a KNNWithMeans model\n",
    "knn_means = knns.KNNWithMeans(sim_options=pear_sim_params)\n",
    "knn_means.fit(trainset)\n",
    "\n",
    "knn_means_pred = knn_means.test(testset)\n",
    "print(accuracy.rmse(knn_means_pred))"
   ]
  },
  {
   "cell_type": "code",
   "execution_count": 79,
   "metadata": {
    "ExecuteTime": {
     "end_time": "2020-04-25T23:56:11.235575Z",
     "start_time": "2020-04-25T23:56:06.595749Z"
    }
   },
   "outputs": [
    {
     "name": "stdout",
     "output_type": "stream",
     "text": [
      "Computing the pearson similarity matrix...\n",
      "Done computing similarity matrix.\n",
      "RMSE: 2831.1615\n",
      "2831.161528114996\n"
     ]
    }
   ],
   "source": [
    "# Try a KNNWithZScore model\n",
    "knn_z = knns.KNNWithZScore(sim_options=pear_sim_params)\n",
    "knn_z.fit(trainset)\n",
    "\n",
    "knn_z_pred = knn_z.test(testset)\n",
    "print(accuracy.rmse(knn_z_pred))"
   ]
  },
  {
   "cell_type": "code",
   "execution_count": 83,
   "metadata": {
    "ExecuteTime": {
     "end_time": "2020-04-25T23:59:37.071775Z",
     "start_time": "2020-04-25T23:59:32.401437Z"
    }
   },
   "outputs": [
    {
     "name": "stdout",
     "output_type": "stream",
     "text": [
      "Estimating biases using als...\n",
      "Computing the pearson similarity matrix...\n",
      "Done computing similarity matrix.\n",
      "RMSE: 2837.0416\n",
      "2837.041647253123\n"
     ]
    }
   ],
   "source": [
    "# Try a KNNBaseline model\n",
    "knn_base = knns.KNNBaseline(sim_options=pear_sim_params)\n",
    "knn_base.fit(trainset)\n",
    "\n",
    "knn_base_pred = knn_base.test(testset)\n",
    "print(accuracy.rmse(knn_base_pred))"
   ]
  },
  {
   "cell_type": "code",
   "execution_count": 84,
   "metadata": {
    "ExecuteTime": {
     "end_time": "2020-04-25T23:59:39.108736Z",
     "start_time": "2020-04-25T23:59:38.890804Z"
    }
   },
   "outputs": [
    {
     "name": "stdout",
     "output_type": "stream",
     "text": [
      "RMSE: 2921.1950\n",
      "RMSE: 2844.2060\n",
      "RMSE: 2831.1615\n",
      "RMSE: 2837.0416\n"
     ]
    },
    {
     "data": {
      "image/png": "[encoded data removed]",
      "text/plain": [
       "<Figure size 432x288 with 1 Axes>"
      ]
     },
     "metadata": {
      "needs_background": "light"
     },
     "output_type": "display_data"
    }
   ],
   "source": [
    "# Visualize RMSE for the three types of models\n",
    "basic_acc = accuracy.rmse(basic_pred)\n",
    "means_acc = accuracy.rmse(knn_means_pred)\n",
    "z_acc = accuracy.rmse(knn_z_pred)\n",
    "base_acc = accuracy.rmse(knn_base_pred)\n",
    "\n",
    "rmses = [basic_acc, means_acc, z_acc, base_acc]\n",
    "names = ['KNNBasic', 'KNNWithMeans', 'KNNWithZScore', 'KNNBaseline']\n",
    "\n",
    "plt.bar(names, rmses)\n",
    "plt.ylim([2800, 2930])\n",
    "plt.title('RMSE for various KNN models')\n",
    "plt.show();\n"
   ]
  },
  {
   "cell_type": "markdown",
   "metadata": {
    "ExecuteTime": {
     "end_time": "2020-04-25T23:17:34.982444Z",
     "start_time": "2020-04-25T23:17:34.972360Z"
    }
   },
   "source": [
    "# SVD models"
   ]
  },
  {
   "cell_type": "code",
   "execution_count": 86,
   "metadata": {
    "ExecuteTime": {
     "end_time": "2020-04-26T00:01:57.056601Z",
     "start_time": "2020-04-26T00:01:51.104041Z"
    }
   },
   "outputs": [
    {
     "name": "stdout",
     "output_type": "stream",
     "text": [
      "RMSE: 3326.6061\n",
      "3326.6060520122237\n"
     ]
    }
   ],
   "source": [
    "# Fit a baseline SVD model\n",
    "svd_1 = surprise.SVD()\n",
    "svd_1.fit(trainset)\n",
    "\n",
    "svd_1_pred = svd_1.test(testset)\n",
    "print(accuracy.rmse(svd_1_pred))"
   ]
  },
  {
   "cell_type": "code",
   "execution_count": null,
   "metadata": {},
   "outputs": [],
   "source": [
    "# Use a grid search to tune hyperparameters\n",
    "params = {'lr_all':[0.001, 0.01],\n",
    "          'reg_all': [0.1, 0.5]}\n",
    "\n",
    "grid_svd = GridSearchCV(surprise.SVDpp, params, measures=['rmse', 'mae'], cv=3)\n",
    "grid_svd.fit(data)\n",
    "grid_svd_pred = grid_svd.test(test_set)\n",
    "\n",
    "print(grid_svd.best_params['rmse'])\n",
    "print(accuracy.rmse(grid_svd_pred))"
   ]
  },
  {
   "cell_type": "code",
   "execution_count": 85,
   "metadata": {
    "ExecuteTime": {
     "end_time": "2020-04-26T00:01:45.187947Z",
     "start_time": "2020-04-26T00:00:50.854511Z"
    }
   },
   "outputs": [
    {
     "name": "stdout",
     "output_type": "stream",
     "text": [
      "RMSE: 3326.6061\n",
      "3326.6060520122237\n"
     ]
    }
   ],
   "source": [
    "# Fit a baseline SVD++ model\n",
    "svdpp_1 = surprise.SVDpp()\n",
    "svdpp_1.fit(trainset)\n",
    "\n",
    "svdpp_1_pred = svdpp_1.test(testset)\n",
    "print(accuracy.rmse(svdpp_1_pred))"
   ]
  },
  {
   "cell_type": "code",
   "execution_count": 87,
   "metadata": {
    "ExecuteTime": {
     "end_time": "2020-04-26T00:05:03.748551Z",
     "start_time": "2020-04-26T00:05:03.744636Z"
    }
   },
   "outputs": [],
   "source": [
    "# Use a grid search to tune hyperparameters\n",
    "params = {'lr_all':[0.001, 0.01],\n",
    "          'reg_all': [0.1, 0.5]}\n",
    "\n",
    "grid_svdpp = GridSearchCV(surprise.SVDpp, params, measures=['rmse', 'mae'], cv=3)\n",
    "grid_svdpp.fit(data)\n",
    "grid_svdpp_pred = grid_svdpp.test(testset)\n",
    "\n",
    "print(grid_svdpp.best_params['rmse'])\n",
    "print(accuracy.rmse(grid_svdpp_pred))"
   ]
  },
  {
   "cell_type": "markdown",
   "metadata": {},
   "source": [
    "# NMF models"
   ]
  },
  {
   "cell_type": "code",
   "execution_count": 88,
   "metadata": {
    "ExecuteTime": {
     "end_time": "2020-04-26T00:06:15.473807Z",
     "start_time": "2020-04-26T00:06:08.287851Z"
    }
   },
   "outputs": [
    {
     "name": "stdout",
     "output_type": "stream",
     "text": [
      "RMSE: 3000.2287\n",
      "3000.2287299618365\n"
     ]
    }
   ],
   "source": [
    "nmf = surprise.NMF()\n",
    "nmf.fit(trainset)\n",
    "\n",
    "nmf_pred = nmf.test(testset)\n",
    "print(accuracy.rmse(nmf_pred))"
   ]
  },
  {
   "cell_type": "code",
   "execution_count": null,
   "metadata": {
    "ExecuteTime": {
     "end_time": "2020-04-26T00:21:26.542611Z",
     "start_time": "2020-04-26T00:18:16.547953Z"
    }
   },
   "outputs": [],
   "source": [
    "params = {'reg_pu': [100, 200],\n",
    "          'reg_qi': [100, 200],\n",
    "          'n_factors': [15, 30]}\n",
    "\n",
    "grid_nmf = GridSearchCV(surprise.NMF, params, measures=['rmse'], cv=3)\n",
    "grid_nmf.fit(data)\n",
    "\n",
    "print(grid_nmf.best_params['rmse'])"
   ]
  },
  {
   "cell_type": "code",
   "execution_count": 108,
   "metadata": {
    "ExecuteTime": {
     "end_time": "2020-04-26T00:23:37.232255Z",
     "start_time": "2020-04-26T00:23:37.226615Z"
    }
   },
   "outputs": [
    {
     "name": "stdout",
     "output_type": "stream",
     "text": [
      "{'rmse': 3671.9925162150207}\n"
     ]
    }
   ],
   "source": [
    "print(grid_nmf.best_score)"
   ]
  },
  {
   "cell_type": "markdown",
   "metadata": {},
   "source": [
    "# SlopeOne model"
   ]
  },
  {
   "cell_type": "code",
   "execution_count": 109,
   "metadata": {
    "ExecuteTime": {
     "end_time": "2020-04-26T00:25:35.449736Z",
     "start_time": "2020-04-26T00:25:15.134646Z"
    }
   },
   "outputs": [
    {
     "name": "stdout",
     "output_type": "stream",
     "text": [
      "RMSE: 2831.7504\n",
      "2831.750375843168\n"
     ]
    }
   ],
   "source": [
    "slope = surprise.SlopeOne()\n",
    "slope.fit(trainset)\n",
    "\n",
    "slope_pred = slope.test(testset)\n",
    "print(accuracy.rmse(slope_pred))"
   ]
  },
  {
   "cell_type": "markdown",
   "metadata": {},
   "source": [
    "# Co-cluster model"
   ]
  },
  {
   "cell_type": "code",
   "execution_count": 110,
   "metadata": {
    "ExecuteTime": {
     "end_time": "2020-04-26T00:27:23.006294Z",
     "start_time": "2020-04-26T00:27:18.810594Z"
    }
   },
   "outputs": [
    {
     "name": "stdout",
     "output_type": "stream",
     "text": [
      "RMSE: 2843.1831\n",
      "2843.183114847419\n"
     ]
    }
   ],
   "source": [
    "clus = surprise.CoClustering()\n",
    "clus.fit(trainset)\n",
    "\n",
    "clus_pred = clus.test(testset)\n",
    "print(accuracy.rmse(clus_pred))"
   ]
  },
  {
   "cell_type": "code",
   "execution_count": null,
   "metadata": {},
   "outputs": [],
   "source": []
  }
 ],
 "metadata": {
  "kernelspec": {
   "display_name": "learn-env",
   "language": "python",
   "name": "learn-env"
  },
  "language_info": {
   "codemirror_mode": {
    "name": "ipython",
    "version": 3
   },
   "file_extension": ".py",
   "mimetype": "text/x-python",
   "name": "python",
   "nbconvert_exporter": "python",
   "pygments_lexer": "ipython3",
   "version": "3.6.6"
  },
  "toc": {
   "base_numbering": 1,
   "nav_menu": {},
   "number_sections": true,
   "sideBar": true,
   "skip_h1_title": false,
   "title_cell": "Table of Contents",
   "title_sidebar": "Contents",
   "toc_cell": true,
   "toc_position": {},
   "toc_section_display": true,
   "toc_window_display": false
  }
 },
 "nbformat": 4,
 "nbformat_minor": 2
}
