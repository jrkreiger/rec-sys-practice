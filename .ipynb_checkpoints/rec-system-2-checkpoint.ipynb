{
 "cells": [
  {
   "cell_type": "markdown",
   "metadata": {
    "toc": true
   },
   "source": [
    "<h1>Table of Contents<span class=\"tocSkip\"></span></h1>\n",
    "<div class=\"toc\"><ul class=\"toc-item\"></ul></div>"
   ]
  },
  {
   "cell_type": "markdown",
   "metadata": {},
   "source": [
    "In this notebook I'm just tinkering with one of the datasets included in the `surprise` package. "
   ]
  },
  {
   "cell_type": "code",
   "execution_count": 1,
   "metadata": {
    "ExecuteTime": {
     "end_time": "2020-05-07T21:28:16.732846Z",
     "start_time": "2020-05-07T21:28:13.988419Z"
    }
   },
   "outputs": [],
   "source": [
    "# Import packages\n",
    "import pandas as pd\n",
    "import numpy as np\n",
    "import matplotlib.pyplot as plt\n",
    "%matplotlib inline\n",
    "\n",
    "import surprise\n",
    "from surprise.dataset import Dataset\n",
    "from surprise.model_selection import train_test_split\n",
    "from surprise.model_selection import GridSearchCV, cross_validate\n",
    "from surprise import SVD, SVDpp\n",
    "from surprise.prediction_algorithms import knns\n",
    "from surprise.similarities import cosine, msd, pearson\n",
    "from surprise import accuracy"
   ]
  },
  {
   "cell_type": "code",
   "execution_count": 2,
   "metadata": {
    "ExecuteTime": {
     "end_time": "2020-05-07T21:28:19.946034Z",
     "start_time": "2020-05-07T21:28:19.632883Z"
    }
   },
   "outputs": [],
   "source": [
    "# Read in data\n",
    "data = Dataset.load_builtin('ml-100k', prompt=True)"
   ]
  },
  {
   "cell_type": "code",
   "execution_count": 3,
   "metadata": {
    "ExecuteTime": {
     "end_time": "2020-05-07T21:28:20.420315Z",
     "start_time": "2020-05-07T21:28:20.231483Z"
    }
   },
   "outputs": [],
   "source": [
    "# Train-test split\n",
    "train, test = train_test_split(data, test_size=.25)"
   ]
  },
  {
   "cell_type": "code",
   "execution_count": 11,
   "metadata": {
    "ExecuteTime": {
     "end_time": "2020-05-07T21:38:24.074279Z",
     "start_time": "2020-05-07T21:38:24.066971Z"
    }
   },
   "outputs": [],
   "source": [
    "# Define a function to fit and evaluate a model\n",
    "def model_rmse(model, trainset, testset):\n",
    "    '''Fits specified model, predicts on training set, returns model and RMSE.\n",
    "    \n",
    "    Parameters:\n",
    "    model: the class object of the model you want to fit\n",
    "    trainset: your training dataset\n",
    "    testset: your testing dataset'''\n",
    "    \n",
    "    mod = model\n",
    "    mod.fit(trainset)\n",
    "    predictions = mod.test(testset)\n",
    "    acc = accuracy.rmse(predictions)\n",
    "    return mod, acc"
   ]
  },
  {
   "cell_type": "code",
   "execution_count": 12,
   "metadata": {
    "ExecuteTime": {
     "end_time": "2020-05-07T21:38:30.256938Z",
     "start_time": "2020-05-07T21:38:24.697349Z"
    }
   },
   "outputs": [
    {
     "name": "stdout",
     "output_type": "stream",
     "text": [
      "RMSE: 0.9427\n",
      "RMSE of baseline SVD model: 0.9426542960200001\n"
     ]
    }
   ],
   "source": [
    "# Evaluate baseline SVD model\n",
    "svd, svd_acc = model_rmse(SVD(), train, test)"
   ]
  },
  {
   "cell_type": "code",
   "execution_count": 13,
   "metadata": {
    "ExecuteTime": {
     "end_time": "2020-05-07T21:39:27.781735Z",
     "start_time": "2020-05-07T21:39:21.565042Z"
    }
   },
   "outputs": [
    {
     "name": "stdout",
     "output_type": "stream",
     "text": [
      "Computing the msd similarity matrix...\n",
      "Done computing similarity matrix.\n",
      "RMSE: 0.9833\n"
     ]
    }
   ],
   "source": [
    "# Evaluate KNNBasic model\n",
    "knn, knn_acc = model_rmse(knns.KNNBasic(), train, test)"
   ]
  },
  {
   "cell_type": "code",
   "execution_count": 21,
   "metadata": {
    "ExecuteTime": {
     "end_time": "2020-05-07T21:45:13.336754Z",
     "start_time": "2020-05-07T21:45:06.799811Z"
    }
   },
   "outputs": [
    {
     "name": "stdout",
     "output_type": "stream",
     "text": [
      "Computing the msd similarity matrix...\n",
      "Done computing similarity matrix.\n",
      "RMSE: 0.9545\n"
     ]
    }
   ],
   "source": [
    "# Try KNNWithMeans using MSD similarity\n",
    "sim_params = {'name':'msd'}\n",
    "knn_means = knns.KNNWithMeans(sim_options=sim_params)\n",
    "\n",
    "knn_m, knnm_acc = model_rmse(knn_means, train, test)"
   ]
  },
  {
   "cell_type": "code",
   "execution_count": null,
   "metadata": {},
   "outputs": [],
   "source": []
  }
 ],
 "metadata": {
  "kernelspec": {
   "display_name": "learn-env",
   "language": "python",
   "name": "learn-env"
  },
  "language_info": {
   "codemirror_mode": {
    "name": "ipython",
    "version": 3
   },
   "file_extension": ".py",
   "mimetype": "text/x-python",
   "name": "python",
   "nbconvert_exporter": "python",
   "pygments_lexer": "ipython3",
   "version": "3.6.6"
  },
  "toc": {
   "base_numbering": 1,
   "nav_menu": {},
   "number_sections": true,
   "sideBar": true,
   "skip_h1_title": false,
   "title_cell": "Table of Contents",
   "title_sidebar": "Contents",
   "toc_cell": true,
   "toc_position": {},
   "toc_section_display": true,
   "toc_window_display": false
  }
 },
 "nbformat": 4,
 "nbformat_minor": 2
}
